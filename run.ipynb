{
 "cells": [
  {
   "cell_type": "code",
   "execution_count": 30,
   "id": "03f62718-afc4-451c-8adf-97736e793d75",
   "metadata": {},
   "outputs": [
    {
     "name": "stdout",
     "output_type": "stream",
     "text": [
      "Preparing files to send to master... 20.1MB and 539 files ring files to send to master... 3.9MB and 134 files\n",
      "Created experiment 187\n"
     ]
    }
   ],
   "source": [
    "!det experiment create const.yaml ."
   ]
  },
  {
   "cell_type": "code",
   "execution_count": null,
   "id": "6b0ae926-be27-4dee-adc8-afca41b6c34e",
   "metadata": {},
   "outputs": [],
   "source": []
  },
  {
   "cell_type": "code",
   "execution_count": 2,
   "id": "c8574dba-3358-4d3e-be1b-646cd0ab926b",
   "metadata": {},
   "outputs": [
    {
     "ename": "FileNotFoundError",
     "evalue": "Checkpoint a12e0af7-d42e-4006-ba8a-e9df1c4fae84 not found in [PosixPath('/mnt/nfs_worker/determined-checkpoint/a12e0af7-d42e-4006-ba8a-e9df1c4fae84'), PosixPath('/determined_shared_fs/determined-checkpoint/a12e0af7-d42e-4006-ba8a-e9df1c4fae84')]. This error could be caused by not having the same shared file system mounted on the local machine as the experiment checkpoint storage configuration.",
     "output_type": "error",
     "traceback": [
      "\u001b[0;31m---------------------------------------------------------------------------\u001b[0m",
      "\u001b[0;31mFileNotFoundError\u001b[0m                         Traceback (most recent call last)",
      "Cell \u001b[0;32mIn [2], line 5\u001b[0m\n\u001b[1;32m      3\u001b[0m warnings\u001b[38;5;241m.\u001b[39mfilterwarnings(\u001b[38;5;124m\"\u001b[39m\u001b[38;5;124mignore\u001b[39m\u001b[38;5;124m\"\u001b[39m)\n\u001b[1;32m      4\u001b[0m checkpoint \u001b[38;5;241m=\u001b[39m Determined()\u001b[38;5;241m.\u001b[39mget_experiment(\u001b[38;5;241m95\u001b[39m)\u001b[38;5;241m.\u001b[39mtop_checkpoint()\n\u001b[0;32m----> 5\u001b[0m model \u001b[38;5;241m=\u001b[39m \u001b[43mcheckpoint\u001b[49m\u001b[38;5;241;43m.\u001b[39;49m\u001b[43mload\u001b[49m\u001b[43m(\u001b[49m\u001b[43m)\u001b[49m\u001b[38;5;241m.\u001b[39mmodel\n",
      "File \u001b[0;32m/run/determined/pythonuserbase/lib/python3.8/site-packages/determined/common/experimental/checkpoint/_checkpoint.py:311\u001b[0m, in \u001b[0;36mCheckpoint.load\u001b[0;34m(self, path, tags, **kwargs)\u001b[0m\n\u001b[1;32m    270\u001b[0m \u001b[38;5;124;03m\"\"\"Loads a Determined checkpoint into memory.\u001b[39;00m\n\u001b[1;32m    271\u001b[0m \n\u001b[1;32m    272\u001b[0m \u001b[38;5;124;03mIf the checkpoint is not present on disk it will be downloaded from persistent storage.\u001b[39;00m\n\u001b[0;32m   (...)\u001b[0m\n\u001b[1;32m    300\u001b[0m \u001b[38;5;124;03m     - ``det.estimator.load_estimator_from_checkpoint_path()``\u001b[39;00m\n\u001b[1;32m    301\u001b[0m \u001b[38;5;124;03m\"\"\"\u001b[39;00m\n\u001b[1;32m    302\u001b[0m warnings\u001b[38;5;241m.\u001b[39mwarn(\n\u001b[1;32m    303\u001b[0m     \u001b[38;5;124m\"\u001b[39m\u001b[38;5;124mCheckpoint.load() has been deprecated and will be removed in a future version.\u001b[39m\u001b[38;5;130;01m\\n\u001b[39;00m\u001b[38;5;124m\"\u001b[39m\n\u001b[1;32m    304\u001b[0m     \u001b[38;5;124m\"\u001b[39m\u001b[38;5;130;01m\\n\u001b[39;00m\u001b[38;5;124m\"\u001b[39m\n\u001b[0;32m   (...)\u001b[0m\n\u001b[1;32m    309\u001b[0m     \u001b[38;5;167;01mFutureWarning\u001b[39;00m,\n\u001b[1;32m    310\u001b[0m )\n\u001b[0;32m--> 311\u001b[0m ckpt_path \u001b[38;5;241m=\u001b[39m \u001b[38;5;28;43mself\u001b[39;49m\u001b[38;5;241;43m.\u001b[39;49m\u001b[43mdownload\u001b[49m\u001b[43m(\u001b[49m\u001b[43mpath\u001b[49m\u001b[43m)\u001b[49m\n\u001b[1;32m    312\u001b[0m \u001b[38;5;28;01mreturn\u001b[39;00m Checkpoint\u001b[38;5;241m.\u001b[39mload_from_path(ckpt_path, tags\u001b[38;5;241m=\u001b[39mtags, \u001b[38;5;241m*\u001b[39m\u001b[38;5;241m*\u001b[39mkwargs)\n",
      "File \u001b[0;32m/run/determined/pythonuserbase/lib/python3.8/site-packages/determined/common/experimental/checkpoint/_checkpoint.py:173\u001b[0m, in \u001b[0;36mCheckpoint.download\u001b[0;34m(self, path, mode)\u001b[0m\n\u001b[1;32m    170\u001b[0m     \u001b[38;5;28mself\u001b[39m\u001b[38;5;241m.\u001b[39m_download_via_master(\u001b[38;5;28mself\u001b[39m\u001b[38;5;241m.\u001b[39m_session, \u001b[38;5;28mself\u001b[39m\u001b[38;5;241m.\u001b[39muuid, local_ckpt_dir)\n\u001b[1;32m    172\u001b[0m \u001b[38;5;28;01melif\u001b[39;00m mode \u001b[38;5;241m==\u001b[39m DownloadMode\u001b[38;5;241m.\u001b[39mAUTO:\n\u001b[0;32m--> 173\u001b[0m     \u001b[38;5;28;43mself\u001b[39;49m\u001b[38;5;241;43m.\u001b[39;49m\u001b[43m_download_auto\u001b[49m\u001b[43m(\u001b[49m\u001b[43mcheckpoint_storage\u001b[49m\u001b[43m,\u001b[49m\u001b[43m \u001b[49m\u001b[43mlocal_ckpt_dir\u001b[49m\u001b[43m)\u001b[49m\n\u001b[1;32m    175\u001b[0m \u001b[38;5;28;01melse\u001b[39;00m:\n\u001b[1;32m    176\u001b[0m     \u001b[38;5;28;01mraise\u001b[39;00m \u001b[38;5;167;01mValueError\u001b[39;00m(\u001b[38;5;124mf\u001b[39m\u001b[38;5;124m\"\u001b[39m\u001b[38;5;124mUnknown download mode \u001b[39m\u001b[38;5;132;01m{\u001b[39;00mmode\u001b[38;5;132;01m}\u001b[39;00m\u001b[38;5;124m\"\u001b[39m)\n",
      "File \u001b[0;32m/run/determined/pythonuserbase/lib/python3.8/site-packages/determined/common/experimental/checkpoint/_checkpoint.py:193\u001b[0m, in \u001b[0;36mCheckpoint._download_auto\u001b[0;34m(self, checkpoint_storage, local_ckpt_dir)\u001b[0m\n\u001b[1;32m    189\u001b[0m \u001b[38;5;28;01mdef\u001b[39;00m \u001b[38;5;21m_download_auto\u001b[39m(\n\u001b[1;32m    190\u001b[0m     \u001b[38;5;28mself\u001b[39m, checkpoint_storage: Dict[\u001b[38;5;28mstr\u001b[39m, Any], local_ckpt_dir: pathlib\u001b[38;5;241m.\u001b[39mPath\n\u001b[1;32m    191\u001b[0m ) \u001b[38;5;241m-\u001b[39m\u001b[38;5;241m>\u001b[39m \u001b[38;5;28;01mNone\u001b[39;00m:\n\u001b[1;32m    192\u001b[0m     \u001b[38;5;28;01mtry\u001b[39;00m:\n\u001b[0;32m--> 193\u001b[0m         \u001b[38;5;28;43mself\u001b[39;49m\u001b[38;5;241;43m.\u001b[39;49m\u001b[43m_download_direct\u001b[49m\u001b[43m(\u001b[49m\u001b[43mcheckpoint_storage\u001b[49m\u001b[43m,\u001b[49m\u001b[43m \u001b[49m\u001b[43mlocal_ckpt_dir\u001b[49m\u001b[43m)\u001b[49m\n\u001b[1;32m    195\u001b[0m     \u001b[38;5;28;01mexcept\u001b[39;00m errors\u001b[38;5;241m.\u001b[39mNoDirectStorageAccess:\n\u001b[1;32m    196\u001b[0m         \u001b[38;5;28;01mif\u001b[39;00m checkpoint_storage[\u001b[38;5;124m\"\u001b[39m\u001b[38;5;124mtype\u001b[39m\u001b[38;5;124m\"\u001b[39m] \u001b[38;5;241m!=\u001b[39m \u001b[38;5;124m\"\u001b[39m\u001b[38;5;124ms3\u001b[39m\u001b[38;5;124m\"\u001b[39m:\n",
      "File \u001b[0;32m/run/determined/pythonuserbase/lib/python3.8/site-packages/determined/common/experimental/checkpoint/_checkpoint.py:213\u001b[0m, in \u001b[0;36mCheckpoint._download_direct\u001b[0;34m(self, checkpoint_storage, local_ckpt_dir)\u001b[0m\n\u001b[1;32m    209\u001b[0m \u001b[38;5;28;01mdef\u001b[39;00m \u001b[38;5;21m_download_direct\u001b[39m(\n\u001b[1;32m    210\u001b[0m     \u001b[38;5;28mself\u001b[39m, checkpoint_storage: Dict[\u001b[38;5;28mstr\u001b[39m, Any], local_ckpt_dir: pathlib\u001b[38;5;241m.\u001b[39mPath\n\u001b[1;32m    211\u001b[0m ) \u001b[38;5;241m-\u001b[39m\u001b[38;5;241m>\u001b[39m \u001b[38;5;28;01mNone\u001b[39;00m:\n\u001b[1;32m    212\u001b[0m     \u001b[38;5;28;01mif\u001b[39;00m checkpoint_storage[\u001b[38;5;124m\"\u001b[39m\u001b[38;5;124mtype\u001b[39m\u001b[38;5;124m\"\u001b[39m] \u001b[38;5;241m==\u001b[39m \u001b[38;5;124m\"\u001b[39m\u001b[38;5;124mshared_fs\u001b[39m\u001b[38;5;124m\"\u001b[39m:\n\u001b[0;32m--> 213\u001b[0m         src_ckpt_dir \u001b[38;5;241m=\u001b[39m \u001b[38;5;28;43mself\u001b[39;49m\u001b[38;5;241;43m.\u001b[39;49m\u001b[43m_find_shared_fs_path\u001b[49m\u001b[43m(\u001b[49m\u001b[43mcheckpoint_storage\u001b[49m\u001b[43m)\u001b[49m\n\u001b[1;32m    214\u001b[0m         shutil\u001b[38;5;241m.\u001b[39mcopytree(\u001b[38;5;28mstr\u001b[39m(src_ckpt_dir), \u001b[38;5;28mstr\u001b[39m(local_ckpt_dir))\n\u001b[1;32m    215\u001b[0m     \u001b[38;5;28;01melse\u001b[39;00m:\n",
      "File \u001b[0;32m/run/determined/pythonuserbase/lib/python3.8/site-packages/determined/common/experimental/checkpoint/_checkpoint.py:123\u001b[0m, in \u001b[0;36mCheckpoint._find_shared_fs_path\u001b[0;34m(self, checkpoint_storage)\u001b[0m\n\u001b[1;32m    120\u001b[0m     \u001b[38;5;28;01mif\u001b[39;00m path\u001b[38;5;241m.\u001b[39mexists():\n\u001b[1;32m    121\u001b[0m         \u001b[38;5;28;01mreturn\u001b[39;00m path\n\u001b[0;32m--> 123\u001b[0m \u001b[38;5;28;01mraise\u001b[39;00m \u001b[38;5;167;01mFileNotFoundError\u001b[39;00m(\n\u001b[1;32m    124\u001b[0m     \u001b[38;5;124m\"\u001b[39m\u001b[38;5;124mCheckpoint \u001b[39m\u001b[38;5;132;01m{}\u001b[39;00m\u001b[38;5;124m not found in \u001b[39m\u001b[38;5;132;01m{}\u001b[39;00m\u001b[38;5;124m. This error could be caused by not having \u001b[39m\u001b[38;5;124m\"\u001b[39m\n\u001b[1;32m    125\u001b[0m     \u001b[38;5;124m\"\u001b[39m\u001b[38;5;124mthe same shared file system mounted on the local machine as the experiment \u001b[39m\u001b[38;5;124m\"\u001b[39m\n\u001b[1;32m    126\u001b[0m     \u001b[38;5;124m\"\u001b[39m\u001b[38;5;124mcheckpoint storage configuration.\u001b[39m\u001b[38;5;124m\"\u001b[39m\u001b[38;5;241m.\u001b[39mformat(\u001b[38;5;28mself\u001b[39m\u001b[38;5;241m.\u001b[39muuid, potential_paths)\n\u001b[1;32m    127\u001b[0m )\n",
      "\u001b[0;31mFileNotFoundError\u001b[0m: Checkpoint a12e0af7-d42e-4006-ba8a-e9df1c4fae84 not found in [PosixPath('/mnt/nfs_worker/determined-checkpoint/a12e0af7-d42e-4006-ba8a-e9df1c4fae84'), PosixPath('/determined_shared_fs/determined-checkpoint/a12e0af7-d42e-4006-ba8a-e9df1c4fae84')]. This error could be caused by not having the same shared file system mounted on the local machine as the experiment checkpoint storage configuration."
     ]
    }
   ],
   "source": [
    "from determined.experimental import Determined\n",
    "import warnings\n",
    "warnings.filterwarnings(\"ignore\")\n",
    "checkpoint = Determined().get_experiment(95).top_checkpoint()\n",
    "model = checkpoint.load().model"
   ]
  },
  {
   "cell_type": "code",
   "execution_count": 76,
   "id": "0aee36dc-3943-46c8-86cf-382cba84906e",
   "metadata": {},
   "outputs": [],
   "source": [
    "from PIL import Image\n",
    "from torch.autograd import Variable\n",
    "import torchvision.transforms as transforms\n",
    "import torch\n",
    "import glob"
   ]
  },
  {
   "cell_type": "code",
   "execution_count": 123,
   "id": "2dda28b6-f067-475e-9e5f-1dff19ed8ddf",
   "metadata": {},
   "outputs": [],
   "source": [
    "transformer=transforms.Compose([\n",
    "    transforms.RandomResizedCrop(224),\n",
    "    transforms.RandomHorizontalFlip(),\n",
    "    transforms.ToTensor(),\n",
    "    transforms.Normalize(mean=[0.485, 0.456, 0.406],\n",
    "                                    std=[0.229, 0.224, 0.225])\n",
    "])"
   ]
  },
  {
   "cell_type": "code",
   "execution_count": 124,
   "id": "92d07e8f-853a-476d-8f20-9e364704f067",
   "metadata": {},
   "outputs": [],
   "source": [
    "def prediction(img_path,transformer):\n",
    "    image=Image.open(img_path)\n",
    "    image_tensor=transformer(image).float()    \n",
    "    image_tensor=image_tensor.unsqueeze_(0)\n",
    "    if torch.cuda.is_available():\n",
    "        image_tensor.cuda()\n",
    "    # input=Variable(image_tensor.cuda())\n",
    "    input=Variable(image_tensor)\n",
    "    # output = \"\"\n",
    "    # with torch.no_grad():\n",
    "    output = model(input)\n",
    "    # index = np.argmax(output.cuda())[0].cpu().numpy()\n",
    "    # index=output.data.numpy().argmax().cpu().numpy()\n",
    "    index = output.cpu().data.numpy().argmax()\n",
    "    classes = ['buildings', 'forest', 'glacier', 'mountain', 'sea','street']\n",
    "    pred=classes[index]   \n",
    "    return pred"
   ]
  },
  {
   "cell_type": "code",
   "execution_count": 125,
   "id": "9af0ec28-1c32-4192-9aa6-4c8361e1a6e2",
   "metadata": {},
   "outputs": [],
   "source": [
    "pred_path='/run/determined/workdir/demo/scene_detectionDemo/test'\n",
    "images_path=glob.glob(pred_path+'/*.jpg')"
   ]
  },
  {
   "cell_type": "code",
   "execution_count": 126,
   "id": "87a2d295-c8fd-44fd-a8ac-e558d8d4a08b",
   "metadata": {},
   "outputs": [
    {
     "data": {
      "text/plain": [
       "['/run/determined/workdir/demo/scene_detectionDemo/test/20216.jpg',\n",
       " '/run/determined/workdir/demo/scene_detectionDemo/test/20212.jpg']"
      ]
     },
     "execution_count": 126,
     "metadata": {},
     "output_type": "execute_result"
    }
   ],
   "source": [
    "images_path"
   ]
  },
  {
   "cell_type": "code",
   "execution_count": 127,
   "id": "3ccbad83-56da-4174-8399-7427237bc5f8",
   "metadata": {},
   "outputs": [],
   "source": [
    "pred_dict={}\n",
    "\n",
    "for i in images_path:\n",
    "    pred_dict[i[i.rfind('/')+1:]]=prediction(i,transformer)"
   ]
  },
  {
   "cell_type": "code",
   "execution_count": 128,
   "id": "9e3574bf-896c-449c-a291-11811dc877ff",
   "metadata": {},
   "outputs": [
    {
     "data": {
      "text/plain": [
       "{'20216.jpg': 'street', '20212.jpg': 'sea'}"
      ]
     },
     "execution_count": 128,
     "metadata": {},
     "output_type": "execute_result"
    }
   ],
   "source": [
    "pred_dict"
   ]
  },
  {
   "cell_type": "code",
   "execution_count": null,
   "id": "237c5d0f-e110-4a72-a992-83efe3fc242b",
   "metadata": {},
   "outputs": [],
   "source": []
  },
  {
   "cell_type": "code",
   "execution_count": null,
   "id": "10dfb5da-a0c9-4900-8ad5-d7fe2a153f05",
   "metadata": {},
   "outputs": [],
   "source": []
  }
 ],
 "metadata": {
  "kernelspec": {
   "display_name": "Python 3 (ipykernel)",
   "language": "python",
   "name": "python3"
  },
  "language_info": {
   "codemirror_mode": {
    "name": "ipython",
    "version": 3
   },
   "file_extension": ".py",
   "mimetype": "text/x-python",
   "name": "python",
   "nbconvert_exporter": "python",
   "pygments_lexer": "ipython3",
   "version": "3.8.13"
  }
 },
 "nbformat": 4,
 "nbformat_minor": 5
}
