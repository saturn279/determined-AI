{
 "cells": [
  {
   "cell_type": "code",
   "execution_count": 1,
   "id": "6f422f8d-7b6e-4a41-9d52-7a35318f71de",
   "metadata": {},
   "outputs": [
    {
     "name": "stdout",
     "output_type": "stream",
     "text": [
      "Tue Feb 14 04:29:23 2023       \n",
      "+-----------------------------------------------------------------------------+\n",
      "| NVIDIA-SMI 520.61.05    Driver Version: 520.61.05    CUDA Version: 11.8     |\n",
      "|-------------------------------+----------------------+----------------------+\n",
      "| GPU  Name        Persistence-M| Bus-Id        Disp.A | Volatile Uncorr. ECC |\n",
      "| Fan  Temp  Perf  Pwr:Usage/Cap|         Memory-Usage | GPU-Util  Compute M. |\n",
      "|                               |                      |               MIG M. |\n",
      "|===============================+======================+======================|\n",
      "|   0  Tesla P100-PCIE...  Off  | 00000001:00:00.0 Off |                  Off |\n",
      "| N/A   28C    P0    29W / 250W |  15782MiB / 16384MiB |      0%      Default |\n",
      "|                               |                      |                  N/A |\n",
      "+-------------------------------+----------------------+----------------------+\n",
      "                                                                               \n",
      "+-----------------------------------------------------------------------------+\n",
      "| Processes:                                                                  |\n",
      "|  GPU   GI   CI        PID   Type   Process name                  GPU Memory |\n",
      "|        ID   ID                                                   Usage      |\n",
      "|=============================================================================|\n",
      "+-----------------------------------------------------------------------------+\n"
     ]
    }
   ],
   "source": [
    "!nvidia-smi"
   ]
  },
  {
   "cell_type": "code",
   "execution_count": 2,
   "id": "38ee175f-2c5c-4db6-8486-459e075987ae",
   "metadata": {
    "tags": []
   },
   "outputs": [
    {
     "name": "stdout",
     "output_type": "stream",
     "text": [
      "Requirement already satisfied: visualkeras in /opt/conda/lib/python3.8/site-packages (0.0.2)\n",
      "Requirement already satisfied: numpy>=1.18.1 in /opt/conda/lib/python3.8/site-packages (from visualkeras) (1.23.3)\n",
      "Requirement already satisfied: aggdraw>=1.3.11 in /opt/conda/lib/python3.8/site-packages (from visualkeras) (1.3.15)\n",
      "Requirement already satisfied: pillow>=6.2.0 in /opt/conda/lib/python3.8/site-packages (from visualkeras) (9.2.0)\n",
      "\u001b[33mWARNING: Running pip as the 'root' user can result in broken permissions and conflicting behaviour with the system package manager. It is recommended to use a virtual environment instead: https://pip.pypa.io/warnings/venv\u001b[0m\u001b[33m\n",
      "\u001b[0mRequirement already satisfied: tensorflow-addons==0.16.1 in /opt/conda/lib/python3.8/site-packages (0.16.1)\n",
      "Requirement already satisfied: typeguard>=2.7 in /opt/conda/lib/python3.8/site-packages (from tensorflow-addons==0.16.1) (2.13.3)\n",
      "\u001b[33mWARNING: Running pip as the 'root' user can result in broken permissions and conflicting behaviour with the system package manager. It is recommended to use a virtual environment instead: https://pip.pypa.io/warnings/venv\u001b[0m\u001b[33m\n",
      "\u001b[0mRequirement already satisfied: scikit-learn in /opt/conda/lib/python3.8/site-packages (1.2.1)\n",
      "Requirement already satisfied: numpy>=1.17.3 in /opt/conda/lib/python3.8/site-packages (from scikit-learn) (1.23.3)\n",
      "Requirement already satisfied: threadpoolctl>=2.0.0 in /opt/conda/lib/python3.8/site-packages (from scikit-learn) (3.1.0)\n",
      "Requirement already satisfied: scipy>=1.3.2 in /opt/conda/lib/python3.8/site-packages (from scikit-learn) (1.9.1)\n",
      "Requirement already satisfied: joblib>=1.1.1 in /opt/conda/lib/python3.8/site-packages (from scikit-learn) (1.2.0)\n",
      "\u001b[33mWARNING: Running pip as the 'root' user can result in broken permissions and conflicting behaviour with the system package manager. It is recommended to use a virtual environment instead: https://pip.pypa.io/warnings/venv\u001b[0m\u001b[33m\n",
      "\u001b[0mRequirement already satisfied: plotly in /opt/conda/lib/python3.8/site-packages (5.13.0)\n",
      "Requirement already satisfied: tenacity>=6.2.0 in /opt/conda/lib/python3.8/site-packages (from plotly) (8.2.1)\n",
      "\u001b[33mWARNING: Running pip as the 'root' user can result in broken permissions and conflicting behaviour with the system package manager. It is recommended to use a virtual environment instead: https://pip.pypa.io/warnings/venv\u001b[0m\u001b[33m\n",
      "\u001b[0mRequirement already satisfied: opencv-python in /opt/conda/lib/python3.8/site-packages (4.7.0.68)\n",
      "Requirement already satisfied: numpy>=1.17.0 in /opt/conda/lib/python3.8/site-packages (from opencv-python) (1.23.3)\n",
      "\u001b[33mWARNING: Running pip as the 'root' user can result in broken permissions and conflicting behaviour with the system package manager. It is recommended to use a virtual environment instead: https://pip.pypa.io/warnings/venv\u001b[0m\u001b[33m\n",
      "\u001b[0mRequirement already satisfied: pydot in /opt/conda/lib/python3.8/site-packages (1.4.2)\n",
      "Requirement already satisfied: pyparsing>=2.1.4 in /opt/conda/lib/python3.8/site-packages (from pydot) (3.0.9)\n",
      "\u001b[33mWARNING: Running pip as the 'root' user can result in broken permissions and conflicting behaviour with the system package manager. It is recommended to use a virtual environment instead: https://pip.pypa.io/warnings/venv\u001b[0m\u001b[33m\n",
      "Reading package lists... Done\n",
      "Building dependency tree       \n",
      "Reading state information... Done\n",
      "graphviz is already the newest version (2.42.2-3build2).\n",
      "0 upgraded, 0 newly installed, 0 to remove and 74 not upgraded.\n"
     ]
    }
   ],
   "source": [
    "# # ! apt-get update && apt-get install libgl1 -y \n",
    "!pip install visualkeras\n",
    "!pip install tensorflow-addons==0.16.1\n",
    "!pip install scikit-learn\n",
    "!pip install plotly\n",
    "!pip install opencv-python\n",
    "! pip install pydot\n",
    "! apt install graphviz -y"
   ]
  },
  {
   "cell_type": "code",
   "execution_count": null,
   "id": "0098fa41-e0a1-4463-b8c3-25006fb2404f",
   "metadata": {},
   "outputs": [],
   "source": [
    "!apt-get install ffmpeg libsm6 libxext6  -y"
   ]
  },
  {
   "cell_type": "code",
   "execution_count": 6,
   "id": "0ac81eb8-bbce-4a9e-b1ae-ec832a75951c",
   "metadata": {},
   "outputs": [
    {
     "name": "stdout",
     "output_type": "stream",
     "text": [
      "Collecting seaborn\n",
      "  Downloading seaborn-0.12.2-py3-none-any.whl (293 kB)\n",
      "\u001b[2K     \u001b[90m━━━━━━━━━━━━━━━━━━━━━━━━━━━━━━━━━━━━━━\u001b[0m \u001b[32m293.3/293.3 kB\u001b[0m \u001b[31m12.7 MB/s\u001b[0m eta \u001b[36m0:00:00\u001b[0m\n",
      "\u001b[?25hRequirement already satisfied: matplotlib!=3.6.1,>=3.1 in /opt/conda/lib/python3.8/site-packages (from seaborn) (3.6.0)\n",
      "Requirement already satisfied: pandas>=0.25 in /opt/conda/lib/python3.8/site-packages (from seaborn) (1.5.0)\n",
      "Requirement already satisfied: numpy!=1.24.0,>=1.17 in /opt/conda/lib/python3.8/site-packages (from seaborn) (1.23.3)\n",
      "Requirement already satisfied: pillow>=6.2.0 in /opt/conda/lib/python3.8/site-packages (from matplotlib!=3.6.1,>=3.1->seaborn) (9.2.0)\n",
      "Requirement already satisfied: cycler>=0.10 in /opt/conda/lib/python3.8/site-packages (from matplotlib!=3.6.1,>=3.1->seaborn) (0.11.0)\n",
      "Requirement already satisfied: python-dateutil>=2.7 in /opt/conda/lib/python3.8/site-packages (from matplotlib!=3.6.1,>=3.1->seaborn) (2.8.2)\n",
      "Requirement already satisfied: packaging>=20.0 in /opt/conda/lib/python3.8/site-packages (from matplotlib!=3.6.1,>=3.1->seaborn) (21.3)\n",
      "Requirement already satisfied: contourpy>=1.0.1 in /opt/conda/lib/python3.8/site-packages (from matplotlib!=3.6.1,>=3.1->seaborn) (1.0.5)\n",
      "Requirement already satisfied: fonttools>=4.22.0 in /opt/conda/lib/python3.8/site-packages (from matplotlib!=3.6.1,>=3.1->seaborn) (4.37.3)\n",
      "Requirement already satisfied: pyparsing>=2.2.1 in /opt/conda/lib/python3.8/site-packages (from matplotlib!=3.6.1,>=3.1->seaborn) (3.0.9)\n",
      "Requirement already satisfied: kiwisolver>=1.0.1 in /opt/conda/lib/python3.8/site-packages (from matplotlib!=3.6.1,>=3.1->seaborn) (1.4.4)\n",
      "Requirement already satisfied: pytz>=2020.1 in /opt/conda/lib/python3.8/site-packages (from pandas>=0.25->seaborn) (2022.2.1)\n",
      "Requirement already satisfied: six>=1.5 in /opt/conda/lib/python3.8/site-packages (from python-dateutil>=2.7->matplotlib!=3.6.1,>=3.1->seaborn) (1.16.0)\n",
      "Installing collected packages: seaborn\n",
      "Successfully installed seaborn-0.12.2\n",
      "\u001b[33mWARNING: Running pip as the 'root' user can result in broken permissions and conflicting behaviour with the system package manager. It is recommended to use a virtual environment instead: https://pip.pypa.io/warnings/venv\u001b[0m\u001b[33m\n",
      "\u001b[0m"
     ]
    }
   ],
   "source": [
    "!pip install seaborn"
   ]
  },
  {
   "cell_type": "code",
   "execution_count": 7,
   "id": "8206e581-a416-4bdd-8397-1d959c1bc3b1",
   "metadata": {
    "tags": []
   },
   "outputs": [],
   "source": [
    "\n",
    "import os\n",
    "import warnings\n",
    "import itertools\n",
    "import cv2\n",
    "import seaborn as sns\n",
    "import pandas as pd\n",
    "import numpy  as np\n",
    "from PIL import Image\n",
    "from sklearn.utils import class_weight\n",
    "from sklearn.metrics import confusion_matrix, classification_report\n",
    "from collections import Counter\n",
    "\n",
    "import tensorflow as tf\n",
    "\n",
    "import tensorflow_addons as tfa\n",
    "import visualkeras\n",
    "import plotly.express as px\n",
    "import matplotlib.pyplot as plt\n",
    "from sklearn.metrics import multilabel_confusion_matrix\n",
    "\n",
    "from tensorflow.keras.preprocessing.image import load_img\n",
    "from tensorflow.keras.utils import plot_model\n",
    "from tensorflow.keras import layers\n",
    "from tensorflow.keras import regularizers\n",
    "from sklearn.model_selection   import train_test_split\n",
    "from keras.preprocessing.image import ImageDataGenerator\n",
    "\n",
    "warnings.filterwarnings('ignore')\n",
    "%matplotlib inline"
   ]
  },
  {
   "cell_type": "code",
   "execution_count": 8,
   "id": "baa7bf18-46cb-4b21-be3f-b32879d21673",
   "metadata": {},
   "outputs": [
    {
     "name": "stdout",
     "output_type": "stream",
     "text": [
      "non_tumorous  tumorous\n"
     ]
    }
   ],
   "source": [
    "!ls input_dataset"
   ]
  },
  {
   "cell_type": "code",
   "execution_count": 9,
   "id": "58e1b380-625e-485e-ae96-650baf69b62f",
   "metadata": {},
   "outputs": [],
   "source": [
    "# General parameters\n",
    "epochs = 15\n",
    "pic_size = 240\n",
    "np.random.seed(42)\n",
    "tf.random.set_seed(42)"
   ]
  },
  {
   "cell_type": "code",
   "execution_count": 10,
   "id": "9a4d819a-70d7-4a48-aa31-0f0f5347085e",
   "metadata": {},
   "outputs": [
    {
     "name": "stdout",
     "output_type": "stream",
     "text": [
      "/run/determined/workdir/Users/examples/BTD_CNN\n"
     ]
    }
   ],
   "source": [
    "!pwd"
   ]
  },
  {
   "cell_type": "code",
   "execution_count": null,
   "id": "f772094b-e2fd-418e-98a1-7cf64e68364c",
   "metadata": {},
   "outputs": [],
   "source": [
    "/run/determined/workdir/Users/examples/BTD_CNN/"
   ]
  },
  {
   "cell_type": "code",
   "execution_count": 42,
   "id": "899f043f-73bf-461d-9203-a5fb2c6276b6",
   "metadata": {},
   "outputs": [],
   "source": [
    "folder_path = \"input_dataset\"\n",
    "non_tumorous_dataset_list = os.listdir(\"input_dataset/non_tumorous/\")\n",
    "non_tumorous_dataset_path= \"input_dataset/non_tumorous/\"\n",
    "tumorous_dataset_list = os.listdir(\"input_dataset/tumorous/\")\n",
    "tumorous_dataset_path = \"input_dataset/tumorous/\"\n",
    "\n",
    "\n",
    "# for image_name in non_tumorous_dataset_list:\n",
    "#     print(tumorous_dataset_path + image_name)\n",
    "#     image=cv2.imread(non_tumorous_dataset_path + image_name)\n",
    "#     image=Image.fromarray(image,'RGB')\n",
    "\n",
    "def data_prep():\n",
    "    non_tumorous_dataset_array=[]\n",
    "    tumorous_dataset_array=[]\n",
    "    for image_name in non_tumorous_dataset_list:\n",
    "        try:\n",
    "            print(non_tumorous_dataset_path+ image_name)\n",
    "            image=cv2.imread(non_tumorous_dataset_path+ image_name)\n",
    "            image=Image.fromarray(image,'RGB')\n",
    "            image=image.resize((240,240))\n",
    "            non_tumorous_dataset_array.append(np.array(image))\n",
    "            tumorous_dataset_array.append(0)\n",
    "        except AttributeError:\n",
    "            print(non_tumorous_dataset_path+ image_name)\n",
    "        \n",
    "    for image_name in tumorous_dataset_list:\n",
    "        try:\n",
    "            image=cv2.imread(tumorous_dataset_path + image_name)\n",
    "            image=Image.fromarray(image,'RGB')\n",
    "            image=image.resize((240,240))\n",
    "            non_tumorous_dataset_array.append(np.array(image))\n",
    "            tumorous_dataset_array.append(1)\n",
    "        except AttributeError:\n",
    "            print(non_tumorous_dataset_path+ image_name)\n",
    "    return non_tumorous_dataset_array,tumorous_dataset_array"
   ]
  },
  {
   "cell_type": "code",
   "execution_count": 43,
   "id": "d839c25f-5d8e-405d-9b6f-d0d17cc06a36",
   "metadata": {},
   "outputs": [
    {
     "name": "stdout",
     "output_type": "stream",
     "text": [
      "-rw-r--r-- 1 root root 6.3K Feb  2 08:12 'input_dataset/non_tumorous/4 no.jpg'\n"
     ]
    }
   ],
   "source": [
    "!ls -lh \"input_dataset/non_tumorous/4 no.jpg\""
   ]
  },
  {
   "cell_type": "code",
   "execution_count": 44,
   "id": "daa28a6a-ff1d-46da-9823-406c8ffc0299",
   "metadata": {},
   "outputs": [
    {
     "data": {
      "image/png": "[encoded data removed]",
      "text/plain": [
       "<PIL.Image.Image image mode=RGB size=201x250>"
      ]
     },
     "execution_count": 44,
     "metadata": {},
     "output_type": "execute_result"
    }
   ],
   "source": [
    "Image.fromarray(cv2.imread(\"input_dataset/non_tumorous/4 no.jpg\"),'RGB')"
   ]
  },
  {
   "cell_type": "code",
   "execution_count": null,
   "id": "0b7249f4-39c2-4994-b433-cf2de3327a74",
   "metadata": {},
   "outputs": [],
   "source": [
    "non_tumorous_dataset_array,tumorous_dataset_array =  data_prep()\n",
    "non_tumorous_dataset_array = np.array(non_tumorous_dataset_array)\n",
    "tumorous_dataset_array = np.array(tumorous_dataset_array)\n",
    "#print(non_tumorous_dataset_array.shape, tumorous_dataset_array.shape)"
   ]
  },
  {
   "cell_type": "code",
   "execution_count": null,
   "id": "a417bb43-ad9f-48a1-9010-c7ddeb35b512",
   "metadata": {},
   "outputs": [],
   "source": [
    "x_train, x_test, y_train, y_test = train_test_split(non_tumorous_dataset_array, tumorous_dataset_array, test_size=0.2, shuffle=True, random_state=42)"
   ]
  },
  {
   "cell_type": "code",
   "execution_count": null,
   "id": "be199608-ee80-46b0-b262-772685fa66ae",
   "metadata": {},
   "outputs": [],
   "source": [
    "def plot_state(state):\n",
    "    plt.figure(figsize= (12,12))\n",
    "    for i in range(1, 13, 1):\n",
    "        plt.subplot(3,4,i)\n",
    "        img = load_img(folder_path + \"/\" + state + \"/\" + os.listdir(folder_path + \"/\" + state)[i], target_size=(pic_size, pic_size))\n",
    "        plt.imshow(img)   \n",
    "    plt.show()"
   ]
  },
  {
   "cell_type": "code",
   "execution_count": null,
   "id": "81898481-8807-49cd-ad41-be84eb37fbe8",
   "metadata": {},
   "outputs": [],
   "source": [
    "plot_state('tumorous')"
   ]
  },
  {
   "cell_type": "code",
   "execution_count": null,
   "id": "71863c55-9e6e-4bae-9070-888d46ee57a7",
   "metadata": {},
   "outputs": [],
   "source": [
    "plot_state('non_tumorous')"
   ]
  },
  {
   "cell_type": "code",
   "execution_count": null,
   "id": "c4ce271f-c08f-48d5-8bb4-ef682afa932e",
   "metadata": {},
   "outputs": [],
   "source": [
    "model = tf.keras.Sequential([\n",
    "    \n",
    "    tf.keras.layers.Conv2D(filters=32,kernel_size=(3,3),strides=(2,2), activation=\"relu\", padding=\"valid\",input_shape=(pic_size,pic_size,3)),\n",
    "    tf.keras.layers.MaxPooling2D((2, 2)),\n",
    "    tf.keras.layers.Conv2D(filters=32,kernel_size=(3,3),strides=(2,2), activation=\"relu\", padding=\"valid\"),\n",
    "    tf.keras.layers.MaxPooling2D((2, 2)),\n",
    "    \n",
    "    tf.keras.layers.Flatten(),\n",
    "    tf.keras.layers.Dense(units=64, activation='relu', \n",
    "                          kernel_regularizer=regularizers.L1L2(l1=1e-3, l2=1e-3), \n",
    "                          bias_regularizer=regularizers.L2(1e-2),\n",
    "                          activity_regularizer=regularizers.L2(1e-3)),\n",
    "    tf.keras.layers.Dropout(0.5),\n",
    "    tf.keras.layers.Dense(units=1, activation='sigmoid'),\n",
    "])"
   ]
  },
  {
   "cell_type": "code",
   "execution_count": null,
   "id": "ac92b404-ef42-4b4b-9f99-fe3a57660c8f",
   "metadata": {},
   "outputs": [],
   "source": [
    "model.compile(optimizer='adam', loss='binary_crossentropy', metrics=['accuracy'])\n",
    "model.summary()"
   ]
  },
  {
   "cell_type": "code",
   "execution_count": null,
   "id": "36ea7c42-9fa4-4f02-8a91-8808c9c0ee1e",
   "metadata": {},
   "outputs": [],
   "source": [
    "plot_model(model, show_shapes=True, show_layer_names=False)"
   ]
  },
  {
   "cell_type": "code",
   "execution_count": null,
   "id": "e12c0e84-5d47-4bc2-bb64-0b9ffe533896",
   "metadata": {},
   "outputs": [],
   "source": [
    "visualkeras.layered_view(model, legend=True)"
   ]
  },
  {
   "cell_type": "code",
   "execution_count": null,
   "id": "12322ba8-19da-482f-8605-862404bf802d",
   "metadata": {},
   "outputs": [],
   "source": [
    "class_weights = class_weight.compute_class_weight(class_weight = \"balanced\", classes= np.unique(y_train), y= y_train)\n",
    "class_weights = dict(zip(np.unique(y_train), class_weights))\n",
    "class_weights"
   ]
  },
  {
   "cell_type": "code",
   "execution_count": null,
   "id": "b84d20bd-f9e6-45c4-b2e5-ed6a3fe1dd66",
   "metadata": {
    "tags": []
   },
   "outputs": [],
   "source": [
    "model_trained = model.fit(x_train,y_train,epochs = 100, class_weight=class_weights, validation_data=(x_test, y_test),verbose=1)"
   ]
  },
  {
   "cell_type": "code",
   "execution_count": null,
   "id": "f5a91c80-8d2d-4a81-9bda-6623f96f8de8",
   "metadata": {},
   "outputs": [],
   "source": [
    "plt.figure(figsize=(20,10))\n",
    "plt.subplot(1, 2, 1)\n",
    "plt.suptitle('Optimizer : Adam', fontsize=10)\n",
    "plt.ylabel('Loss', fontsize=16)\n",
    "plt.plot(model_trained.history['loss'], label='Training Loss')\n",
    "plt.plot(model_trained.history['val_loss'], label='Validation Loss')\n",
    "plt.legend(loc='upper right')\n",
    "\n",
    "plt.subplot(1, 2, 2)\n",
    "plt.ylabel('Accuracy', fontsize=16)\n",
    "plt.plot(model_trained.history['accuracy'], label='Training Accuracy')\n",
    "plt.plot(model_trained.history['val_accuracy'], label='Validation Accuracy')\n",
    "plt.legend(loc='lower right')\n",
    "plt.show()"
   ]
  },
  {
   "cell_type": "code",
   "execution_count": null,
   "id": "9149f64e-8dbb-40bd-b226-36e96cce0c0a",
   "metadata": {},
   "outputs": [],
   "source": [
    "results = model.evaluate(x_test, y_test)\n",
    "print('The current model achieved an accuracy of {}%!'.format(round(results[1]*100,2)))"
   ]
  },
  {
   "cell_type": "code",
   "execution_count": null,
   "id": "968820b9-9674-49f8-9260-9576dfdc99e6",
   "metadata": {},
   "outputs": [],
   "source": [
    "# compute predictions\n",
    "predictions = model.predict()\n",
    "y_pred = []\n",
    "for i in predictions:\n",
    "    if i >= 0.5:\n",
    "        y_pred.append(1)\n",
    "    else:\n",
    "        y_pred.append(0)"
   ]
  },
  {
   "cell_type": "code",
   "execution_count": null,
   "id": "87f55277-81ba-4a8b-8d69-5edaa18fbddd",
   "metadata": {},
   "outputs": [],
   "source": [
    "predictions = model.predict(x_test[:1][:][:][:])\n",
    "for i in predictions:\n",
    "    if i >= 0.5:\n",
    "        print(predictions, 1)\n",
    "    else:\n",
    "        print(predictions, 0)"
   ]
  },
  {
   "cell_type": "code",
   "execution_count": null,
   "id": "2653cb34-8ff4-4f32-8f21-c01600666c77",
   "metadata": {},
   "outputs": [],
   "source": [
    "model.save(\"cnn_s_model\")"
   ]
  },
  {
   "cell_type": "code",
   "execution_count": null,
   "id": "984aa116-bbc3-42d7-87b4-dc3a0a6c5b13",
   "metadata": {},
   "outputs": [],
   "source": [
    "loda_model = tf.keras.models.load_model('cnn_s_model')"
   ]
  },
  {
   "cell_type": "code",
   "execution_count": null,
   "id": "c6492f9e-a932-4acc-aa1a-a13b365123c1",
   "metadata": {},
   "outputs": [],
   "source": [
    "input_non = \"/run/determined/workdir/BTD_CNN/input_dataset/non_tumorous/17 no.jpg\""
   ]
  },
  {
   "cell_type": "code",
   "execution_count": null,
   "id": "94879ae3-c9cd-4771-b438-23dca80059c7",
   "metadata": {},
   "outputs": [],
   "source": [
    "input_image=cv2.imread(input_non)\n",
    "input_image=Image.fromarray(input_image,'RGB')\n",
    "input_image=input_image.resize((240,240))\n",
    "input_image = np.array(input_image)\n",
    "input_image = np.array([input_image])\n",
    "\n",
    "input_image.shape\n"
   ]
  },
  {
   "cell_type": "code",
   "execution_count": null,
   "id": "5dce3d1a-cdbd-44aa-a4a5-809195edec4a",
   "metadata": {},
   "outputs": [],
   "source": [
    "loda_model.predict(input_image)"
   ]
  },
  {
   "cell_type": "code",
   "execution_count": null,
   "id": "dd64c9d7-c56c-4be3-91bc-c32e71568660",
   "metadata": {},
   "outputs": [],
   "source": [
    "x = []\n",
    "y = []\n",
    "for image_name in [input_non]:\n",
    "    image=cv2.imread(image_name)\n",
    "    image=Image.fromarray(image,'RGB')\n",
    "    image=image.resize((240,240))\n",
    "    x.append(np.array(image))\n",
    "    y.append(0)\n",
    "    \n",
    "x =np.array(x)\n",
    "x.shape"
   ]
  },
  {
   "cell_type": "code",
   "execution_count": null,
   "id": "c715dbdf-8a33-4120-a913-0f8de643354d",
   "metadata": {},
   "outputs": [],
   "source": [
    "x.shape"
   ]
  },
  {
   "cell_type": "code",
   "execution_count": null,
   "id": "8b363c74-afe6-4b4e-9842-617db6b1bb29",
   "metadata": {},
   "outputs": [],
   "source": [
    "x_test[:1][:][:][:].shape"
   ]
  },
  {
   "cell_type": "code",
   "execution_count": null,
   "id": "986d5ed3-3816-47b8-bf98-45f7f94ac83f",
   "metadata": {},
   "outputs": [],
   "source": [
    "test_results['reloaded'] = reloaded.evaluate(test_features, test_labels, verbose=0)"
   ]
  }
 ],
 "metadata": {
  "kernelspec": {
   "display_name": "Python 3 (ipykernel)",
   "language": "python",
   "name": "python3"
  },
  "language_info": {
   "codemirror_mode": {
    "name": "ipython",
    "version": 3
   },
   "file_extension": ".py",
   "mimetype": "text/x-python",
   "name": "python",
   "nbconvert_exporter": "python",
   "pygments_lexer": "ipython3",
   "version": "3.8.13"
  }
 },
 "nbformat": 4,
 "nbformat_minor": 5
}
